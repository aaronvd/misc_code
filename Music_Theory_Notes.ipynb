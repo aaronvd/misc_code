{
 "cells": [
  {
   "cell_type": "markdown",
   "metadata": {},
   "source": [
    "# Music Theory Notes"
   ]
  },
  {
   "cell_type": "markdown",
   "metadata": {},
   "source": [
    "Harmonic series given as integer multiples of a fundamental frequency:  \n",
    "\n",
    "$f_n=nf_0, \\:\\: n=1,2,3,...$  \n",
    "\n",
    "Different intervals are composed of small-integer ratios:  \n",
    "\n",
    "* Octave: $\\:\\:2:1$\n",
    "* Perfect Fifth: $\\:\\:3:2$\n",
    "* Perfect Fourth: $\\:\\:4:3$\n",
    "* Major Third: $\\:\\:5:4$\n",
    "* Minor Third: $\\:\\:6:5$\n",
    "\n",
    "Therefore octaves are defined exponentially by\n",
    "\n",
    "$f_n=f_0^n, \\:\\: n=1,2,3,...$\n",
    "\n",
    "As a result, pitch is perceived approximately as the logarithm of frequency.\n",
    "    "
   ]
  },
  {
   "cell_type": "markdown",
   "metadata": {},
   "source": [
    "<img src=\"./Figures/Harmonic_series_intervals.png\" alt=\"Intervals\" width=\"600\"/>"
   ]
  },
  {
   "cell_type": "markdown",
   "metadata": {},
   "source": [
    "There are 12 fifths in the circle of fifths under just intonation (<a href=\"https://en.wikipedia.org/wiki/Just_intonation\">Just Intonation</a>), i.e. covering the circle of fifths returns you to the original pitch **approximately 7 octaves** higher (or lower). "
   ]
  },
  {
   "cell_type": "markdown",
   "metadata": {},
   "source": [
    "<img src=\"./Figures/circle-of-fifths.png\" alt=\"Circle of Fifths\" width=\"300\"/>"
   ]
  },
  {
   "cell_type": "markdown",
   "metadata": {},
   "source": [
    "12 just fifths $\\approx$ 7 octaves  \n",
    "$1.5^{12} \\approx 2^7$"
   ]
  },
  {
   "cell_type": "code",
   "execution_count": 6,
   "metadata": {},
   "outputs": [
    {
     "name": "stdout",
     "output_type": "stream",
     "text": [
      "129.746337890625 128\n",
      "Pythagorean Comma: 1.0136432647705078\n"
     ]
    }
   ],
   "source": [
    "print(1.5**12, 2**7)\n",
    "print('Pythagorean Comma:', (1.5**12)/(2**7))"
   ]
  },
  {
   "cell_type": "markdown",
   "metadata": {},
   "source": [
    "To avoid the mismatch from this Pythagorean comma, Western instruments are typically tuned with **equal temperament**, where octaves are related by rational frequency ratios, but other intervals are defined by irrational number frequency ratios (<a href=\"https://en.wikipedia.org/wiki/Equal_temperament\">Equal Temperament</a>).\n"
   ]
  },
  {
   "cell_type": "markdown",
   "metadata": {},
   "source": [
    "## Equal Temperament"
   ]
  },
  {
   "cell_type": "markdown",
   "metadata": {},
   "source": [
    "In **twelve-tone equal temperament**, the octave is divided into 12 intervals, or **semitones**, that are equal on a logarithmic scale. The ratio between successive frequencies is  \n",
    "\n",
    "$r=\\sqrt[12]{2}=1.05946$  \n",
    "\n",
    "Frequencies are therefore given according to the geometric series:\n",
    "\n",
    "$f_n = f_a (\\sqrt[12]{2})^{n-a}$\n",
    "\n",
    "where $f_a$ is a reference pitch/frequency, often $\\textrm{A}4=440 \\:\\textrm{Hz}$, $a$ indicates its index (49 according to keys on a piano), and $n$ indicates the index of the desired pitch.\n",
    "\n",
    "Ratio between fifth (seven semitones) and tonic:"
   ]
  },
  {
   "cell_type": "code",
   "execution_count": 8,
   "metadata": {},
   "outputs": [
    {
     "name": "stdout",
     "output_type": "stream",
     "text": [
      "Just intonation 1.5\n",
      "Equal temperament: 1.49827644455091\n"
     ]
    }
   ],
   "source": [
    "print('Just intonation', 1.5)\n",
    "print('Equal temperament:', (1.05946)**7)"
   ]
  },
  {
   "cell_type": "code",
   "execution_count": null,
   "metadata": {},
   "outputs": [],
   "source": []
  }
 ],
 "metadata": {
  "kernelspec": {
   "display_name": "Python 3",
   "language": "python",
   "name": "python3"
  },
  "language_info": {
   "codemirror_mode": {
    "name": "ipython",
    "version": 3
   },
   "file_extension": ".py",
   "mimetype": "text/x-python",
   "name": "python",
   "nbconvert_exporter": "python",
   "pygments_lexer": "ipython3",
   "version": "3.8.3"
  }
 },
 "nbformat": 4,
 "nbformat_minor": 4
}
